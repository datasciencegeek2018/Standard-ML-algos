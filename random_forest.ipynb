{
  "cells": [
    {
      "metadata": {
        "_uuid": "8f2839f25d086af736a60e9eeb907d3b93b6e0e5",
        "_cell_guid": "b1076dfc-b9ad-4769-8c92-a6c4dae69d19",
        "trusted": true,
        "collapsed": true
      },
      "cell_type": "code",
      "source": "# This Python 3 environment comes with many helpful analytics libraries installed\n# It is defined by the kaggle/python docker image: https://github.com/kaggle/docker-python\n# For example, here's several helpful packages to load in \n\nimport numpy as np # linear algebra\nimport pandas as pd # data processing, CSV file I/O (e.g. pd.read_csv)\n\n# Input data files are available in the \"../input/\" directory.\n# For example, running this (by clicking run or pressing Shift+Enter) will list the files in the input directory\n\nimport os\nprint(os.listdir(\"../input\"))\n\n# Any results you write to the current directory are saved as output.",
      "execution_count": null,
      "outputs": []
    },
    {
      "metadata": {
        "_cell_guid": "79c7e3d0-c299-4dcb-8224-4455121ee9b0",
        "collapsed": true,
        "_uuid": "d629ff2d2480ee46fbb7e2d37f6b5fab8052498a",
        "trusted": true
      },
      "cell_type": "code",
      "source": "from sklearn.preprocessing import LabelEncoder",
      "execution_count": null,
      "outputs": []
    },
    {
      "metadata": {
        "trusted": true,
        "collapsed": true,
        "_uuid": "e927cdad6dd546badec48876d5cf938b4c9e26c8"
      },
      "cell_type": "code",
      "source": "training_set=pd.read_csv('../input/application_train.csv')",
      "execution_count": null,
      "outputs": []
    },
    {
      "metadata": {
        "trusted": true,
        "_uuid": "bff5cbc554c7ce27daae804309d28669f05d4022",
        "collapsed": true
      },
      "cell_type": "code",
      "source": "test_set=pd.read_csv('../input/application_test.csv')",
      "execution_count": null,
      "outputs": []
    },
    {
      "metadata": {
        "trusted": true,
        "_uuid": "4f022ccf95e7e58aeebb300f1d574df82a3d0771",
        "collapsed": true
      },
      "cell_type": "code",
      "source": "from sklearn.preprocessing import OneHotEncoder",
      "execution_count": null,
      "outputs": []
    },
    {
      "metadata": {
        "trusted": true,
        "_uuid": "35f346e1a5150ae904809212f77e98627ad393f5",
        "collapsed": true
      },
      "cell_type": "code",
      "source": "le=LabelEncoder()\nle_count=0\nfor col in training_set:\n    if training_set[col].dtype=='object':\n        if len(list(training_set[col].unique()))<=2:\n            le.fit(training_set[col])\n            print(f'this {col} has {le.classes_}')\n            training_set[col]=le.transform(training_set[col])\n            test_set[col]=le.transform(test_set[col])\n            le_count+=1\nprint(f'{le_count} columns were label encoded')",
      "execution_count": null,
      "outputs": []
    },
    {
      "metadata": {
        "trusted": true,
        "collapsed": true,
        "_uuid": "fcdf11dacd4cef6fa0c683a816b105ac1826d8cb"
      },
      "cell_type": "code",
      "source": "training_set=pd.get_dummies(training_set)\ntest_set=pd.get_dummies(test_set)",
      "execution_count": null,
      "outputs": []
    },
    {
      "metadata": {
        "trusted": true,
        "collapsed": true,
        "_uuid": "40fab60382d82f0645be0a0264db482cd59b21d5"
      },
      "cell_type": "code",
      "source": "training_labels=training_set['TARGET']",
      "execution_count": null,
      "outputs": []
    },
    {
      "metadata": {
        "trusted": true,
        "_uuid": "c828ae52c70ae022f933079a202ba38e12141f4f",
        "collapsed": true
      },
      "cell_type": "code",
      "source": "training_set, test_set=training_set.align(test_set, join='inner', axis=1)\nprint(f'training features shape: {training_set.shape}')\nprint(f'test features shape: {test_set.shape}')",
      "execution_count": null,
      "outputs": []
    },
    {
      "metadata": {
        "trusted": true,
        "_uuid": "9e015c671ed7d73fa369866601fb3cb19cbbe614",
        "collapsed": true
      },
      "cell_type": "code",
      "source": "training_set['TARGET']=training_labels",
      "execution_count": null,
      "outputs": []
    },
    {
      "metadata": {
        "trusted": true,
        "collapsed": true,
        "_uuid": "402fe68f09252342460c3c830659c8bdf1c03e8a"
      },
      "cell_type": "code",
      "source": "import matplotlib.pyplot as plt\nimport seaborn as sns",
      "execution_count": null,
      "outputs": []
    },
    {
      "metadata": {
        "trusted": true,
        "collapsed": true,
        "_uuid": "4c799cc9601fd7b7f2c1a50b84b0aea72b339948"
      },
      "cell_type": "code",
      "source": "from sklearn.preprocessing import MinMaxScaler\nfrom sklearn.impute import SimpleImputer",
      "execution_count": null,
      "outputs": []
    },
    {
      "metadata": {
        "trusted": true,
        "_uuid": "f8741940595ca86192a2232fa16306323b58cd6e",
        "collapsed": true
      },
      "cell_type": "code",
      "source": "X_train=training_set.drop(columns=['TARGET'])\nX_test=test_set.copy()\nfeatures=list(X_train.columns)\nimputer=SimpleImputer(strategy='median')\nscaler=MinMaxScaler(feature_range=(0,1))\nimputer.fit(X_train)\nX_train=imputer.transform(X_train)\nX_test=imputer.transform(X_test)\nscaler.fit(X_train)\nX_train=scaler.transform(X_train)\nX_test=scaler.transform(X_test)\nprint(f'training data shape:{X_train.shape}')\nprint(f'test data shape:{X_test.shape}')",
      "execution_count": null,
      "outputs": []
    },
    {
      "metadata": {
        "trusted": true,
        "collapsed": true,
        "_uuid": "aa5ab6551415961dfe4cdf6ce0cf1948c6b91ff4"
      },
      "cell_type": "code",
      "source": "from sklearn.ensemble import RandomForestClassifier",
      "execution_count": null,
      "outputs": []
    },
    {
      "metadata": {
        "trusted": true,
        "_uuid": "7567494065289ca996087fe2e44a038a44f7f6a2",
        "collapsed": true
      },
      "cell_type": "code",
      "source": "classifier=RandomForestClassifier(n_estimators=50)\nclassifier.fit(X_train, training_labels)",
      "execution_count": null,
      "outputs": []
    },
    {
      "metadata": {
        "trusted": true,
        "_uuid": "88b1ff3d04e0f450d332bcd518087b48cfd25135",
        "collapsed": true
      },
      "cell_type": "code",
      "source": "classifier_pred=classifier.predict_proba(X_test)[:,1]",
      "execution_count": null,
      "outputs": []
    },
    {
      "metadata": {
        "trusted": true,
        "collapsed": true,
        "_uuid": "33b920ddff6068de4b8d39d405b4ae11137628ac"
      },
      "cell_type": "code",
      "source": "def show_feature_importances(model, features):\n    plt.figure(figsize=(12,8))\n    results=pd.DataFrame({'feature': features, 'importance': model.feature_importances_})\n    results=results.sort_values(by='importance', ascending=False)\n    print(results.head(10))\n    print('\\nNuber of features with importance greater than 0.01= ', np.sum(results['importance']>0.01))\n    results.head(20).plot(x='feature', y='importance', kind='barh', color='red', edgecolor='k', title='Feature Importances')\n    return results",
      "execution_count": null,
      "outputs": []
    },
    {
      "metadata": {
        "trusted": true,
        "collapsed": true,
        "_uuid": "d11e390645a528cc7fd4944191779851552c161b"
      },
      "cell_type": "code",
      "source": "feature_importances=show_feature_importances(classifier, features)",
      "execution_count": null,
      "outputs": []
    },
    {
      "metadata": {
        "trusted": true,
        "_uuid": "06dc328982f3e251726be57ef236f4b565d07344",
        "collapsed": true
      },
      "cell_type": "code",
      "source": "submit=test_set[['SK_ID_CURR']]\nsubmit['TARGET']=classifier_pred",
      "execution_count": null,
      "outputs": []
    },
    {
      "metadata": {
        "trusted": true,
        "collapsed": true,
        "_uuid": "9b28878b4e7596760ab203937f986b58bd4334df"
      },
      "cell_type": "code",
      "source": "submit.to_csv('random_forest_baseline_v1.csv', index=False)",
      "execution_count": null,
      "outputs": []
    }
  ],
  "metadata": {
    "kernelspec": {
      "display_name": "Python 3",
      "language": "python",
      "name": "python3"
    },
    "language_info": {
      "name": "python",
      "version": "3.6.6",
      "mimetype": "text/x-python",
      "codemirror_mode": {
        "name": "ipython",
        "version": 3
      },
      "pygments_lexer": "ipython3",
      "nbconvert_exporter": "python",
      "file_extension": ".py"
    }
  },
  "nbformat": 4,
  "nbformat_minor": 1
}